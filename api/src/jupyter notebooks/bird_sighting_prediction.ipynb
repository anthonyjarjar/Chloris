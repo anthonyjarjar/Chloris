{
  "cells": [
    {
      "cell_type": "markdown",
      "metadata": {
        "id": "irsBcgdbExdn"
      },
      "source": [
        "# Data Preprocessing"
      ]
    },
    {
      "cell_type": "code",
      "source": [
        "from google.colab import drive\n",
        "drive.mount('/content/drive')"
      ],
      "metadata": {
        "id": "6RT2OrdHvFBv",
        "colab": {
          "base_uri": "https://localhost:8080/"
        },
        "outputId": "4bfa540b-ba05-4387-e880-bd7ef833a7fa"
      },
      "execution_count": null,
      "outputs": [
        {
          "output_type": "stream",
          "name": "stdout",
          "text": [
            "Drive already mounted at /content/drive; to attempt to forcibly remount, call drive.mount(\"/content/drive\", force_remount=True).\n"
          ]
        }
      ]
    },
    {
      "cell_type": "code",
      "execution_count": null,
      "metadata": {
        "id": "9m6LwGK6OgIL",
        "colab": {
          "base_uri": "https://localhost:8080/"
        },
        "outputId": "9b69b2e4-fca4-4539-be6d-6b67a8ab7294"
      },
      "outputs": [
        {
          "output_type": "stream",
          "name": "stderr",
          "text": [
            "<ipython-input-4-ce739a42c6bd>:3: DtypeWarning: Columns (12) have mixed types. Specify dtype option on import or set low_memory=False.\n",
            "  df_one = pd.read_csv('/content/drive/MyDrive/PFW_all_2016_2020_June2023_Public.csv')\n"
          ]
        }
      ],
      "source": [
        "import pandas as pd\n",
        "\n",
        "df_one = pd.read_csv('/content/drive/MyDrive/PFW_all_2016_2020_June2023_Public.csv')\n",
        "df_two = pd.read_csv('/content/drive/MyDrive/PFW_all_2021_2023_June2023_Public.csv')\n",
        "\n",
        "df = pd.concat([df_one, df_two])"
      ]
    },
    {
      "cell_type": "code",
      "source": [
        "data_frame = pd.DataFrame(df)"
      ],
      "metadata": {
        "id": "aXzPKV2svybK"
      },
      "execution_count": null,
      "outputs": []
    },
    {
      "cell_type": "code",
      "execution_count": null,
      "metadata": {
        "id": "vOTn8MYpP229"
      },
      "outputs": [],
      "source": [
        "dropped_columns =['ENTRY_TECHNIQUE', 'SUB_ID', 'OBS_ID',\n",
        "                 'PROJ_PERIOD_ID', 'alt_full_spp_code',\n",
        "                 'PLUS_CODE', 'VALID', 'REVIEWED', 'DAY1_AM',\n",
        "                 'DAY1_PM', 'DAY2_AM', 'DAY2_PM', 'EFFORT_HRS_ATLEAST',\n",
        "                 'SNOW_DEP_ATLEAST', 'Data_Entry_Method']\n",
        "\n",
        "data_frame.drop(dropped_columns, axis=1, inplace=True)"
      ]
    },
    {
      "cell_type": "code",
      "execution_count": null,
      "metadata": {
        "colab": {
          "base_uri": "https://localhost:8080/"
        },
        "id": "HwY-FkCwCzVh",
        "outputId": "e4d3ba50-89ec-455b-d340-438ff94975dd"
      },
      "outputs": [
        {
          "output_type": "stream",
          "name": "stdout",
          "text": [
            "    LOC_ID   LATITUDE  LONGITUDE SUBNATIONAL1_CODE  Month  Day  Year  \\\n",
            "0  L100025  42.675982 -70.848019             US-MA     12    2  2017   \n",
            "1  L100025  42.675982 -70.848019             US-MA     12    2  2017   \n",
            "2  L100025  42.675982 -70.848019             US-MA     12    2  2017   \n",
            "3  L100025  42.675982 -70.848019             US-MA     12    2  2017   \n",
            "4  L100025  42.675982 -70.848019             US-MA     12    2  2017   \n",
            "\n",
            "  SPECIES_CODE  HOW_MANY  \n",
            "0       tuftit       1.0  \n",
            "1       houspa       2.0  \n",
            "2       daejun       1.0  \n",
            "3       houfin       1.0  \n",
            "4       blujay       5.0  \n"
          ]
        }
      ],
      "source": [
        "print(data_frame.head())"
      ]
    },
    {
      "cell_type": "code",
      "execution_count": null,
      "metadata": {
        "id": "m0pZVayuc6Se"
      },
      "outputs": [],
      "source": [
        "species = []\n",
        "\n",
        "for index, value in data_frame['SPECIES_CODE'].value_counts().items():\n",
        "    species.append(index)\n",
        "    print(index, value)"
      ]
    },
    {
      "cell_type": "code",
      "execution_count": null,
      "metadata": {
        "id": "bJSWaScrYVLa"
      },
      "outputs": [],
      "source": [
        "import numpy as np\n",
        "import matplotlib.pyplot as plt\n",
        "import matplotlib.colors as mcolors\n",
        "\n",
        "def custom_sort_key(item):\n",
        "    month = item[0]\n",
        "    order = {11: 0, 12: 1, 1: 2, 2: 3, 3: 4, 4: 5}\n",
        "    return order.get(month, 6)\n",
        "\n",
        "def heat_map(data_frame, CHOSEN_SPECIES_CODE, plot):\n",
        "  species = data_frame.groupby(data_frame.SPECIES_CODE)\n",
        "  species_data = species.get_group(CHOSEN_SPECIES_CODE)\n",
        "\n",
        "  existing_months = species_data['Month'].unique()\n",
        "  all_months = list(range(1, 13))\n",
        "  missing_months = [(month, 0) for month in all_months if month not in existing_months]\n",
        "  month_freq = [(month, count) for month, count in species_data['Month'].value_counts().items()]\n",
        "  combined_data = month_freq\n",
        "  freq_points = sorted(combined_data, key=custom_sort_key)\n",
        "\n",
        "  months = [x[0] for x in freq_points]\n",
        "  freq = [x[1] for x in freq_points]\n",
        "  weighted_freq = [x/sum(freq) for x in freq]\n",
        "\n",
        "  if plot == True:\n",
        "    freq_array = np.array(weighted_freq)\n",
        "\n",
        "    freq_2d = freq_array.reshape(1, -1)\n",
        "\n",
        "    plt.figure(figsize=(10, 2))\n",
        "\n",
        "    vmin = min(weighted_freq)\n",
        "    vmax = max(weighted_freq)\n",
        "\n",
        "    norm = mcolors.Normalize(vmin=vmin, vmax=vmax)\n",
        "\n",
        "    plt.imshow(freq_2d, cmap='viridis', aspect='auto', norm=norm)\n",
        "    plt.colorbar(label='Frequency')\n",
        "    plt.xticks(ticks=np.arange(len(months)), labels=months)\n",
        "    plt.xlabel('Month')\n",
        "    plt.title(f'Frequency of {CHOSEN_SPECIES_CODE} by Month')\n",
        "\n",
        "    plt.yticks([])\n",
        "    plt.show()\n",
        "\n",
        "\n",
        "  return weighted_freq\n"
      ]
    },
    {
      "cell_type": "code",
      "execution_count": null,
      "metadata": {
        "colab": {
          "base_uri": "https://localhost:8080/"
        },
        "id": "mXjsUbEEcLch",
        "outputId": "53d7ef12-ce15-48f6-9960-4d2be08c9f7a"
      },
      "outputs": [
        {
          "output_type": "stream",
          "name": "stdout",
          "text": [
            "[0.13513429039700106, 0.20170907947248848, 0.2162603801817887, 0.1861986314080713, 0.18630216462562973, 0.07439447718655319, 9.76728467532569e-07]\n",
            "[0.13599834659749532, 0.20204558638379105, 0.21169542648499207, 0.18240743791503547, 0.1789758289726839, 0.08887737364600214]\n",
            "[0.12820928604036744, 0.1902105543654966, 0.20820672460199585, 0.18467867375331282, 0.18897941140625032, 0.09971534983257695]\n",
            "[0.12766764421757387, 0.18663514299113287, 0.20005251544667305, 0.18132416726277822, 0.19699019495549153, 0.10733033512635043]\n",
            "[0.13965287138565383, 0.1972308517707611, 0.20278962910688902, 0.17704494328243908, 0.18414869117173996, 0.09913301328251702]\n"
          ]
        }
      ],
      "source": [
        "i = 0\n",
        "\n",
        "while i < 5:\n",
        "  weighted_freq = heat_map(data_frame, species[i], False)\n",
        "  print(weighted_freq)\n",
        "  i += 1"
      ]
    },
    {
      "cell_type": "code",
      "execution_count": null,
      "metadata": {
        "id": "ODGzOVZkNa1p"
      },
      "outputs": [],
      "source": [
        "import pandas as pd\n",
        "\n",
        "from google.colab import drive\n",
        "drive.mount('/content/drive')"
      ]
    },
    {
      "cell_type": "markdown",
      "metadata": {
        "id": "Bbt464NGEmfg"
      },
      "source": [
        "# One-Class SVM"
      ]
    },
    {
      "cell_type": "code",
      "execution_count": null,
      "metadata": {
        "id": "5A6CLiYJChqe",
        "colab": {
          "base_uri": "https://localhost:8080/"
        },
        "outputId": "351e901b-e2d1-4f67-fdbf-8604e60f8f42"
      },
      "outputs": [
        {
          "output_type": "stream",
          "name": "stdout",
          "text": [
            "Shape of X_train: (819060, 4)\n",
            "Shape of X_test: (204766, 4)\n"
          ]
        }
      ],
      "source": [
        "from sklearn.linear_model import SGDOneClassSVM\n",
        "from sklearn.compose import ColumnTransformer\n",
        "from sklearn.preprocessing import StandardScaler, OneHotEncoder\n",
        "from sklearn.model_selection import train_test_split\n",
        "\n",
        "z = data_frame[['LATITUDE', 'LONGITUDE', 'Month', 'SPECIES_CODE']]\n",
        "X = z[z['SPECIES_CODE'] == 'daejun']\n",
        "\n",
        "column_transformer = ColumnTransformer(\n",
        "    [('encoder', OneHotEncoder(handle_unknown='ignore'), ['SPECIES_CODE'])],\n",
        "    remainder='passthrough'\n",
        ")\n",
        "\n",
        "X_train_encoded = column_transformer.fit_transform(X)\n",
        "\n",
        "scaler = StandardScaler()\n",
        "X_scaled = scaler.fit_transform(X_train_encoded)\n",
        "\n",
        "X_train, X_test = train_test_split(X_scaled, test_size=0.2, random_state=42)\n",
        "\n",
        "print(\"Shape of X_train:\", X_train.shape)\n",
        "print(\"Shape of X_test:\", X_test.shape)"
      ]
    },
    {
      "cell_type": "code",
      "source": [
        "import numpy as np\n",
        "\n",
        "oc_svm = SGDOneClassSVM(nu=0.01, max_iter=1000, tol=1e-4, learning_rate='optimal', shuffle=True, verbose=1, random_state=42)\n",
        "\n",
        "batch_size = 1000\n",
        "\n",
        "num_batches = int(np.ceil(len(X_scaled) / batch_size))\n",
        "\n",
        "\n",
        "for i in range(num_batches):\n",
        "    start_idx = i * batch_size\n",
        "    end_idx = min((i + 1) * batch_size, len(X_scaled))\n",
        "\n",
        "    X_batch = X_train[start_idx:end_idx]\n",
        "\n",
        "    if X_batch.shape[0] == 0:\n",
        "        break\n",
        "    oc_svm.partial_fit(X_batch)\n",
        "\n"
      ],
      "metadata": {
        "id": "bFdUSSC20sDj"
      },
      "execution_count": null,
      "outputs": []
    },
    {
      "cell_type": "code",
      "source": [
        "from sklearn.metrics import average_precision_score\n",
        "\n",
        "decision_scores = oc_svm.decision_function(X_test)\n",
        "\n",
        "print(\"Decision Scores:\")\n",
        "print(decision_scores)\n",
        "\n",
        "y_true = (decision_scores > 0).astype(int)\n",
        "\n",
        "auc_pr = average_precision_score(y_true, decision_scores)\n",
        "\n",
        "print(\"True Labels:\")\n",
        "print(y_true)\n",
        "\n",
        "print(\"Average Precision (AUC-PR):\", auc_pr)"
      ],
      "metadata": {
        "id": "YkikzXvm5oQw"
      },
      "execution_count": null,
      "outputs": []
    },
    {
      "cell_type": "code",
      "source": [
        "def distance_to_decision_boundary(decision_scores):\n",
        "    distances = np.abs(decision_scores)\n",
        "\n",
        "    if np.min(distances) == np.max(distances):\n",
        "        normalized_distances = np.full_like(distances, 0.5)\n",
        "    else:\n",
        "        normalized_distances = (distances - np.min(distances)) / (np.max(distances) - np.min(distances))\n",
        "\n",
        "    prob_scores = 1 - normalized_distances\n",
        "    return prob_scores\n",
        "\n",
        "\n",
        "prob_scores_distance = distance_to_decision_boundary(decision_scores)\n",
        "\n",
        "print(\"Pseudo-Probabilities based on Distance:\")\n",
        "print(prob_scores_distance)\n"
      ],
      "metadata": {
        "id": "u_7ZQTPUKhhh"
      },
      "execution_count": null,
      "outputs": []
    },
    {
      "cell_type": "code",
      "execution_count": null,
      "metadata": {
        "colab": {
          "base_uri": "https://localhost:8080/"
        },
        "id": "Ty8g2tg5Ck1l",
        "outputId": "bcd2d021-80e8-4e60-c170-f8fb853145db"
      },
      "outputs": [
        {
          "output_type": "stream",
          "name": "stdout",
          "text": [
            "Prediction (1 for sighting, -1 for non-sighting): [1] 0.7583316553536408\n"
          ]
        }
      ],
      "source": [
        "import pandas as pd\n",
        "\n",
        "new_data = [[45, -80, 12, 'daejun']]  # New location and date\n",
        "\n",
        "new_data_point = pd.DataFrame(new_data, columns=['LATITUDE', 'LONGITUDE', 'Month', 'SPECIES_CODE'])\n",
        "\n",
        "new_data_point_encoded = column_transformer.transform(new_data_point)\n",
        "new_data_scaled = scaler.transform(new_data_point_encoded)\n",
        "\n",
        "new_data_scaled = np.array(new_data_scaled).reshape(1, -1)\n",
        "\n",
        "X_test_with_new_data = np.vstack([X_test, new_data_scaled])\n",
        "\n",
        "decision_scores_combined = oc_svm.decision_function(X_test_with_new_data)\n",
        "\n",
        "probability_new_data = distance_to_decision_boundary(decision_scores_combined)[-1]\n",
        "\n",
        "prediction = oc_svm.predict(new_data_scaled)\n",
        "\n",
        "print(\"Prediction (1 for sighting, -1 for non-sighting):\", prediction, probability_new_data)"
      ]
    },
    {
      "cell_type": "markdown",
      "source": [
        "# Saving Model & Data"
      ],
      "metadata": {
        "id": "5aBrqqRrU8PZ"
      }
    },
    {
      "cell_type": "code",
      "source": [
        "import joblib\n",
        "import numpy as np\n",
        "\n",
        "joblib.dump(oc_svm, '/content/drive/MyDrive/one_class_svm_model.pkl')\n",
        "\n",
        "np.savez('/content/drive/MyDrive/testing_data.npz', X_test=X_test_with_new_data)"
      ],
      "metadata": {
        "id": "-xztG8RLU_FK"
      },
      "execution_count": null,
      "outputs": []
    },
    {
      "cell_type": "code",
      "source": [
        "from sklearn.externals import joblib\n",
        "import numpy as np\n",
        "\n",
        "oc_svm = joblib.load('one_class_svm_model.pkl')\n",
        "\n",
        "testing_data = np.load('testing_data.npz')\n",
        "X_test_loaded = testing_data['X_test']"
      ],
      "metadata": {
        "id": "-MZLgf-YVDEH"
      },
      "execution_count": null,
      "outputs": []
    },
    {
      "cell_type": "markdown",
      "source": [
        "#Graphs"
      ],
      "metadata": {
        "id": "77gSQi_o-bwx"
      }
    },
    {
      "cell_type": "code",
      "source": [
        "import matplotlib.pyplot as plt\n",
        "from sklearn.metrics import precision_recall_curve\n",
        "\n",
        "precision, recall, thresholds = precision_recall_curve(y_true, decision_scores)\n",
        "\n",
        "plt.figure(figsize=(8, 6))\n",
        "plt.plot(recall, precision, marker='.', label='Precision-Recall curve')\n",
        "plt.xlabel('Recall')\n",
        "plt.ylabel('Precision')\n",
        "plt.title('Precision-Recall Curve')\n",
        "plt.legend(loc='lower left')\n",
        "plt.grid(True)\n",
        "plt.show()\n"
      ],
      "metadata": {
        "colab": {
          "base_uri": "https://localhost:8080/",
          "height": 564
        },
        "id": "8hRs_9Yx-a0k",
        "outputId": "b4c9862c-a5ce-4766-96ce-06c274bb5f4a"
      },
      "execution_count": null,
      "outputs": [
        {
          "output_type": "display_data",
          "data": {
            "text/plain": [
              "<Figure size 800x600 with 1 Axes>"
            ],
            "image/png": "[encoded data removed]"
          },
          "metadata": {}
        }
      ]
    }
  ],
  "metadata": {
    "colab": {
      "collapsed_sections": [
        "irsBcgdbExdn",
        "kX3HSJ2PEs58",
        "Bbt464NGEmfg",
        "5aBrqqRrU8PZ",
        "77gSQi_o-bwx"
      ],
      "provenance": []
    },
    "kernelspec": {
      "display_name": "Python 3",
      "name": "python3"
    },
    "language_info": {
      "name": "python"
    }
  },
  "nbformat": 4,
  "nbformat_minor": 0
}