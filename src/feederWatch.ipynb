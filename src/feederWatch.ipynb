{
  "nbformat": 4,
  "nbformat_minor": 0,
  "metadata": {
    "colab": {
      "provenance": []
    },
    "kernelspec": {
      "name": "python3",
      "display_name": "Python 3"
    },
    "language_info": {
      "name": "python"
    }
  },
  "cells": [
    {
      "cell_type": "code",
      "execution_count": null,
      "metadata": {
        "id": "ODGzOVZkNa1p"
      },
      "outputs": [],
      "source": [
        "import pandas as pd"
      ]
    },
    {
      "cell_type": "code",
      "source": [
        "import zipfile\n",
        "\n",
        "\n",
        "zip_ref = zipfile.ZipFile(\"/content/drive/MyDrive/PFW_all_2021_2023_June2023_Public.zip\", 'r')\n",
        "zip_ref.extractall(\"\")\n",
        "zip_ref.close()"
      ],
      "metadata": {
        "id": "ICwHENPOFIuQ"
      },
      "execution_count": null,
      "outputs": []
    },
    {
      "cell_type": "code",
      "source": [
        "data_frame = pd.read_csv(\"2021.csv\")"
      ],
      "metadata": {
        "id": "9m6LwGK6OgIL"
      },
      "execution_count": null,
      "outputs": []
    },
    {
      "cell_type": "code",
      "source": [
        "dropped_columns =['ENTRY_TECHNIQUE', 'SUB_ID', 'OBS_ID',\n",
        "                 'PROJ_PERIOD_ID', 'alt_full_spp_code',\n",
        "                 'PLUS_CODE', 'VALID', 'REVIEWED', 'DAY1_AM',\n",
        "                 'DAY1_PM', 'DAY2_AM', 'DAY2_PM', 'EFFORT_HRS_ATLEAST',\n",
        "                 'SNOW_DEP_ATLEAST', 'Data_Entry_Method']\n",
        "\n",
        "data_frame.drop(dropped_columns, axis=1, inplace=True)"
      ],
      "metadata": {
        "id": "vOTn8MYpP229"
      },
      "execution_count": null,
      "outputs": []
    },
    {
      "cell_type": "code",
      "source": [
        "print(data_frame.columns)"
      ],
      "metadata": {
        "colab": {
          "base_uri": "https://localhost:8080/"
        },
        "id": "HwY-FkCwCzVh",
        "outputId": "5ffec8af-c457-4952-b7c6-f8da365acb87"
      },
      "execution_count": null,
      "outputs": [
        {
          "output_type": "stream",
          "name": "stdout",
          "text": [
            "Index(['LOC_ID', 'LATITUDE', 'LONGITUDE', 'SUBNATIONAL1_CODE', 'Month', 'Day',\n",
            "       'Year', 'SPECIES_CODE', 'HOW_MANY'],\n",
            "      dtype='object')\n"
          ]
        }
      ]
    },
    {
      "cell_type": "code",
      "source": [
        "species = []\n",
        "\n",
        "for index, value in data_frame['SPECIES_CODE'].value_counts().items():\n",
        "    species.append(index)"
      ],
      "metadata": {
        "id": "m0pZVayuc6Se"
      },
      "execution_count": null,
      "outputs": []
    },
    {
      "cell_type": "code",
      "source": [
        "import numpy as np\n",
        "import matplotlib.pyplot as plt\n",
        "import matplotlib.colors as mcolors\n",
        "\n",
        "def custom_sort_key(item):\n",
        "    month = item[0]\n",
        "    order = {11: 0, 12: 1, 1: 2, 2: 3, 3: 4, 4: 5}\n",
        "    return order.get(month, 6)\n",
        "\n",
        "def heat_map(data_frame, CHOSEN_SPECIES_CODE, plot):\n",
        "  species = data_frame.groupby(data_frame.SPECIES_CODE)\n",
        "  species_data = species.get_group(CHOSEN_SPECIES_CODE)\n",
        "\n",
        "  existing_months = species_data['Month'].unique()\n",
        "  all_months = list(range(1, 13))\n",
        "  missing_months = [(month, 0) for month in all_months if month not in existing_months]\n",
        "  month_freq = [(month, count) for month, count in species_data['Month'].value_counts().items()]\n",
        "  combined_data = month_freq # + missing_months\n",
        "  freq_points = sorted(combined_data, key=custom_sort_key)\n",
        "\n",
        "  months = [x[0] for x in freq_points]\n",
        "  freq = [x[1] for x in freq_points]\n",
        "  weighted_freq = [x/sum(freq) for x in freq]\n",
        "\n",
        "  if plot == True:\n",
        "    freq_array = np.array(weighted_freq)\n",
        "\n",
        "    freq_2d = freq_array.reshape(1, -1)\n",
        "\n",
        "    plt.figure(figsize=(10, 2))\n",
        "\n",
        "    vmin = min(weighted_freq)\n",
        "    vmax = max(weighted_freq)\n",
        "\n",
        "    norm = mcolors.Normalize(vmin=vmin, vmax=vmax)\n",
        "\n",
        "    plt.imshow(freq_2d, cmap='viridis', aspect='auto', norm=norm)\n",
        "    plt.colorbar(label='Frequency')\n",
        "    plt.xticks(ticks=np.arange(len(months)), labels=months)\n",
        "    plt.xlabel('Month')\n",
        "    plt.title(f'Frequency of {CHOSEN_SPECIES_CODE} by Month')\n",
        "\n",
        "    plt.yticks([])\n",
        "    plt.show()\n",
        "\n",
        "\n",
        "  return weighted_freq\n"
      ],
      "metadata": {
        "id": "bJSWaScrYVLa"
      },
      "execution_count": null,
      "outputs": []
    },
    {
      "cell_type": "code",
      "source": [
        "i = 0\n",
        "\n",
        "while i < 5:\n",
        "  weighted_freq = heat_map(data_frame, species[i], False)\n",
        "  print(weighted_freq)\n",
        "  i += 1"
      ],
      "metadata": {
        "colab": {
          "base_uri": "https://localhost:8080/"
        },
        "id": "mXjsUbEEcLch",
        "outputId": "f03588e3-e383-4184-9e05-f06f757ba00f"
      },
      "execution_count": null,
      "outputs": [
        {
          "output_type": "stream",
          "name": "stdout",
          "text": [
            "[0.13523883903938064, 0.1904218202191869, 0.21060450428271887, 0.1743287294459206, 0.1653388398882843, 0.1240672671245087]\n",
            "[0.13385611089169458, 0.19183940409303826, 0.21669788043639823, 0.18183188730767433, 0.17363986529241143, 0.1021327285930871, 2.1233856960245975e-06]\n",
            "[0.126204954882181, 0.1780112832244431, 0.20595438888996595, 0.1771927216955425, 0.17402833515355567, 0.13860831615431177]\n",
            "[0.13800551470588235, 0.1860202205882353, 0.2017141544117647, 0.1686534926470588, 0.1690326286764706, 0.13657398897058823]\n",
            "[0.1245476596683031, 0.1743509394983926, 0.1967387393660852, 0.17238025602636864, 0.18060420366050392, 0.15137820178034656]\n"
          ]
        }
      ]
    }
  ]
}